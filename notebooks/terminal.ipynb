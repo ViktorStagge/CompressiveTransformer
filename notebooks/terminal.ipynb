{
 "cells": [
  {
   "cell_type": "markdown",
   "metadata": {
    "toc": true
   },
   "source": [
    "<h1>Overview<span class=\"tocSkip\"></span></h1>\n",
    "<div class=\"toc\"><ul class=\"toc-item\"></ul></div>"
   ]
  },
  {
   "cell_type": "code",
   "execution_count": 4,
   "metadata": {
    "ExecuteTime": {
     "end_time": "2020-07-07T16:54:59.037855Z",
     "start_time": "2020-07-07T16:54:58.980573Z"
    }
   },
   "outputs": [
    {
     "name": "stdout",
     "output_type": "stream",
     "text": [
      "The autoreload extension is already loaded. To reload it, use:\n",
      "  %reload_ext autoreload\n"
     ]
    }
   ],
   "source": [
    "import os\n",
    "import re\n",
    "import sys\n",
    "import numpy as np\n",
    "# import pandas as pd\n",
    "\n",
    "from keras import backend as K\n",
    "from keras.layers import Dense, Conv1D, LSTM, Dropout, Embedding, Layer, Input, Dropout\n",
    "from keras.models import Sequential as SequentialModel, Model\n",
    "from keras.utils import to_categorical\n",
    "from keras.preprocessing.text import Tokenizer as KerasTokenizer\n",
    "\n",
    "# from plotly.offline import iplot, init_notebook_mode\n",
    "# from plotly.graph_objs import Scatter, Layout, Figure\n",
    "\n",
    "# from sklearn.linear_model import LinearRegression\n",
    "\n",
    "%load_ext autoreload\n",
    "%autoreload 2\n",
    "\n",
    "sys.path.insert(0, '../ct')\n",
    "\n",
    "# import load\n",
    "# from preprocess import preprocess\n",
    "# from preprocess import Tokenizer\n",
    "# from preprocess.preprocess import separator_samples"
   ]
  },
  {
   "cell_type": "code",
   "execution_count": null,
   "metadata": {},
   "outputs": [],
   "source": []
  },
  {
   "cell_type": "code",
   "execution_count": 9,
   "metadata": {
    "ExecuteTime": {
     "end_time": "2020-07-07T16:55:26.324763Z",
     "start_time": "2020-07-07T16:55:26.271648Z"
    }
   },
   "outputs": [],
   "source": [
    "x = Input(shape=(10,))\n",
    "y = Dropout(rate=0.5)(x)\n",
    "model = Model(inputs=x, outputs=y)"
   ]
  },
  {
   "cell_type": "code",
   "execution_count": 10,
   "metadata": {
    "ExecuteTime": {
     "end_time": "2020-07-07T16:55:30.696083Z",
     "start_time": "2020-07-07T16:55:30.640711Z"
    }
   },
   "outputs": [
    {
     "name": "stdout",
     "output_type": "stream",
     "text": [
      "Model: \"model_2\"\n",
      "_________________________________________________________________\n",
      "Layer (type)                 Output Shape              Param #   \n",
      "=================================================================\n",
      "input_3 (InputLayer)         (None, 10)                0         \n",
      "_________________________________________________________________\n",
      "dropout_2 (Dropout)          (None, 10)                0         \n",
      "=================================================================\n",
      "Total params: 0\n",
      "Trainable params: 0\n",
      "Non-trainable params: 0\n",
      "_________________________________________________________________\n"
     ]
    }
   ],
   "source": [
    "model.summary()"
   ]
  },
  {
   "cell_type": "code",
   "execution_count": 14,
   "metadata": {
    "ExecuteTime": {
     "end_time": "2020-07-07T16:56:11.904134Z",
     "start_time": "2020-07-07T16:56:11.853420Z"
    }
   },
   "outputs": [],
   "source": [
    "ones = np.ones(shape=(10,))"
   ]
  },
  {
   "cell_type": "code",
   "execution_count": 16,
   "metadata": {
    "ExecuteTime": {
     "end_time": "2020-07-07T16:56:17.930594Z",
     "start_time": "2020-07-07T16:56:17.847441Z"
    }
   },
   "outputs": [
    {
     "data": {
      "text/plain": [
       "array([1., 1., 1., 1., 1., 1., 1., 1., 1., 1.], dtype=float32)"
      ]
     },
     "execution_count": 16,
     "metadata": {},
     "output_type": "execute_result"
    }
   ],
   "source": [
    "K.function(x, y)(ones)"
   ]
  },
  {
   "cell_type": "code",
   "execution_count": 17,
   "metadata": {
    "ExecuteTime": {
     "end_time": "2020-07-07T16:57:15.576190Z",
     "start_time": "2020-07-07T16:57:15.506170Z"
    }
   },
   "outputs": [],
   "source": [
    "model.compile(loss='mse',\n",
    "              optimizer='Adam')"
   ]
  },
  {
   "cell_type": "code",
   "execution_count": 19,
   "metadata": {
    "ExecuteTime": {
     "end_time": "2020-07-07T16:57:57.674572Z",
     "start_time": "2020-07-07T16:57:57.428218Z"
    }
   },
   "outputs": [
    {
     "name": "stdout",
     "output_type": "stream",
     "text": [
      "Epoch 1/100\n",
      "20/20 [==============================] - 0s 87us/step - loss: 1.0000\n",
      "Epoch 2/100\n",
      "20/20 [==============================] - 0s 50us/step - loss: 1.0000\n",
      "Epoch 3/100\n",
      "20/20 [==============================] - 0s 53us/step - loss: 1.0000\n",
      "Epoch 4/100\n",
      "20/20 [==============================] - 0s 44us/step - loss: 1.0000\n",
      "Epoch 5/100\n",
      "20/20 [==============================] - 0s 123us/step - loss: 1.0000\n",
      "Epoch 6/100\n",
      "20/20 [==============================] - 0s 78us/step - loss: 1.0000\n",
      "Epoch 7/100\n",
      "20/20 [==============================] - 0s 68us/step - loss: 1.0000\n",
      "Epoch 8/100\n",
      "20/20 [==============================] - 0s 99us/step - loss: 1.0000\n",
      "Epoch 9/100\n",
      "20/20 [==============================] - 0s 57us/step - loss: 1.0000\n",
      "Epoch 10/100\n",
      "20/20 [==============================] - 0s 47us/step - loss: 1.0000\n",
      "Epoch 11/100\n",
      "20/20 [==============================] - 0s 49us/step - loss: 1.0000\n",
      "Epoch 12/100\n",
      "20/20 [==============================] - 0s 112us/step - loss: 1.0000\n",
      "Epoch 13/100\n",
      "20/20 [==============================] - 0s 92us/step - loss: 1.0000\n",
      "Epoch 14/100\n",
      "20/20 [==============================] - 0s 46us/step - loss: 1.0000\n",
      "Epoch 15/100\n",
      "20/20 [==============================] - 0s 44us/step - loss: 1.0000\n",
      "Epoch 16/100\n",
      "20/20 [==============================] - 0s 36us/step - loss: 1.0000\n",
      "Epoch 17/100\n",
      "20/20 [==============================] - 0s 58us/step - loss: 1.0000\n",
      "Epoch 18/100\n",
      "20/20 [==============================] - 0s 58us/step - loss: 1.0000\n",
      "Epoch 19/100\n",
      "20/20 [==============================] - 0s 54us/step - loss: 1.0000\n",
      "Epoch 20/100\n",
      "20/20 [==============================] - 0s 47us/step - loss: 1.0000\n",
      "Epoch 21/100\n",
      "20/20 [==============================] - 0s 72us/step - loss: 1.0000\n",
      "Epoch 22/100\n",
      "20/20 [==============================] - 0s 81us/step - loss: 1.0000\n",
      "Epoch 23/100\n",
      "20/20 [==============================] - 0s 55us/step - loss: 1.0000\n",
      "Epoch 24/100\n",
      "20/20 [==============================] - 0s 47us/step - loss: 1.0000\n",
      "Epoch 25/100\n",
      "20/20 [==============================] - 0s 48us/step - loss: 1.0000\n",
      "Epoch 26/100\n",
      "20/20 [==============================] - 0s 47us/step - loss: 1.0000\n",
      "Epoch 27/100\n",
      "20/20 [==============================] - 0s 48us/step - loss: 1.0000\n",
      "Epoch 28/100\n",
      "20/20 [==============================] - 0s 46us/step - loss: 1.0000\n",
      "Epoch 29/100\n",
      "20/20 [==============================] - 0s 48us/step - loss: 1.0000\n",
      "Epoch 30/100\n",
      "20/20 [==============================] - 0s 89us/step - loss: 1.0000\n",
      "Epoch 31/100\n",
      "20/20 [==============================] - 0s 54us/step - loss: 1.0000\n",
      "Epoch 32/100\n",
      "20/20 [==============================] - 0s 67us/step - loss: 1.0000\n",
      "Epoch 33/100\n",
      "20/20 [==============================] - 0s 70us/step - loss: 1.0000\n",
      "Epoch 34/100\n",
      "20/20 [==============================] - 0s 67us/step - loss: 1.0000\n",
      "Epoch 35/100\n",
      "20/20 [==============================] - 0s 61us/step - loss: 1.0000\n",
      "Epoch 36/100\n",
      "20/20 [==============================] - 0s 60us/step - loss: 1.0000\n",
      "Epoch 37/100\n",
      "20/20 [==============================] - 0s 59us/step - loss: 1.0000\n",
      "Epoch 38/100\n",
      "20/20 [==============================] - 0s 67us/step - loss: 1.0000\n",
      "Epoch 39/100\n",
      "20/20 [==============================] - 0s 63us/step - loss: 1.0000\n",
      "Epoch 40/100\n",
      "20/20 [==============================] - 0s 50us/step - loss: 1.0000\n",
      "Epoch 41/100\n",
      "20/20 [==============================] - 0s 101us/step - loss: 1.0000\n",
      "Epoch 42/100\n",
      "20/20 [==============================] - 0s 60us/step - loss: 1.0000\n",
      "Epoch 43/100\n",
      "20/20 [==============================] - 0s 78us/step - loss: 1.0000\n",
      "Epoch 44/100\n",
      "20/20 [==============================] - 0s 59us/step - loss: 1.0000\n",
      "Epoch 45/100\n",
      "20/20 [==============================] - 0s 54us/step - loss: 1.0000\n",
      "Epoch 46/100\n",
      "20/20 [==============================] - 0s 55us/step - loss: 1.0000\n",
      "Epoch 47/100\n",
      "20/20 [==============================] - 0s 126us/step - loss: 1.0000\n",
      "Epoch 48/100\n",
      "20/20 [==============================] - 0s 81us/step - loss: 1.0000\n",
      "Epoch 49/100\n",
      "20/20 [==============================] - 0s 75us/step - loss: 1.0000\n",
      "Epoch 50/100\n",
      "20/20 [==============================] - 0s 73us/step - loss: 1.0000\n",
      "Epoch 51/100\n",
      "20/20 [==============================] - 0s 71us/step - loss: 1.0000\n",
      "Epoch 52/100\n",
      "20/20 [==============================] - 0s 73us/step - loss: 1.0000\n",
      "Epoch 53/100\n",
      "20/20 [==============================] - 0s 68us/step - loss: 1.0000\n",
      "Epoch 54/100\n",
      "20/20 [==============================] - 0s 47us/step - loss: 1.0000\n",
      "Epoch 55/100\n",
      "20/20 [==============================] - 0s 40us/step - loss: 1.0000\n",
      "Epoch 56/100\n",
      "20/20 [==============================] - 0s 54us/step - loss: 1.0000\n",
      "Epoch 57/100\n",
      "20/20 [==============================] - 0s 51us/step - loss: 1.0000\n",
      "Epoch 58/100\n",
      "20/20 [==============================] - 0s 36us/step - loss: 1.0000\n",
      "Epoch 59/100\n",
      "20/20 [==============================] - 0s 41us/step - loss: 1.0000\n",
      "Epoch 60/100\n",
      "20/20 [==============================] - 0s 41us/step - loss: 1.0000\n",
      "Epoch 61/100\n",
      "20/20 [==============================] - 0s 42us/step - loss: 1.0000\n",
      "Epoch 62/100\n",
      "20/20 [==============================] - 0s 51us/step - loss: 1.0000\n",
      "Epoch 63/100\n",
      "20/20 [==============================] - 0s 53us/step - loss: 1.0000\n",
      "Epoch 64/100\n",
      "20/20 [==============================] - 0s 58us/step - loss: 1.0000\n",
      "Epoch 65/100\n",
      "20/20 [==============================] - 0s 53us/step - loss: 1.0000\n",
      "Epoch 66/100\n",
      "20/20 [==============================] - 0s 82us/step - loss: 1.0000\n",
      "Epoch 67/100\n",
      "20/20 [==============================] - 0s 52us/step - loss: 1.0000\n",
      "Epoch 68/100\n",
      "20/20 [==============================] - 0s 73us/step - loss: 1.0000\n",
      "Epoch 69/100\n",
      "20/20 [==============================] - 0s 67us/step - loss: 1.0000\n",
      "Epoch 70/100\n",
      "20/20 [==============================] - 0s 51us/step - loss: 1.0000\n",
      "Epoch 71/100\n",
      "20/20 [==============================] - 0s 40us/step - loss: 1.0000\n",
      "Epoch 72/100\n",
      "20/20 [==============================] - 0s 59us/step - loss: 1.0000\n",
      "Epoch 73/100\n",
      "20/20 [==============================] - 0s 74us/step - loss: 1.0000\n",
      "Epoch 74/100\n",
      "20/20 [==============================] - 0s 78us/step - loss: 1.0000\n",
      "Epoch 75/100\n",
      "20/20 [==============================] - 0s 68us/step - loss: 1.0000\n",
      "Epoch 76/100\n",
      "20/20 [==============================] - 0s 53us/step - loss: 1.0000\n",
      "Epoch 77/100\n",
      "20/20 [==============================] - 0s 56us/step - loss: 1.0000\n",
      "Epoch 78/100\n",
      "20/20 [==============================] - 0s 47us/step - loss: 1.0000\n",
      "Epoch 79/100\n",
      "20/20 [==============================] - 0s 44us/step - loss: 1.0000\n",
      "Epoch 80/100\n",
      "20/20 [==============================] - 0s 53us/step - loss: 1.0000\n",
      "Epoch 81/100\n",
      "20/20 [==============================] - 0s 69us/step - loss: 1.0000\n",
      "Epoch 82/100\n",
      "20/20 [==============================] - 0s 61us/step - loss: 1.0000\n",
      "Epoch 83/100\n",
      "20/20 [==============================] - 0s 58us/step - loss: 1.0000\n",
      "Epoch 84/100\n",
      "20/20 [==============================] - 0s 66us/step - loss: 1.0000\n",
      "Epoch 85/100\n",
      "20/20 [==============================] - 0s 59us/step - loss: 1.0000\n",
      "Epoch 86/100\n",
      "20/20 [==============================] - 0s 66us/step - loss: 1.0000\n",
      "Epoch 87/100\n",
      "20/20 [==============================] - 0s 56us/step - loss: 1.0000\n",
      "Epoch 88/100\n",
      "20/20 [==============================] - 0s 63us/step - loss: 1.0000\n",
      "Epoch 89/100\n",
      "20/20 [==============================] - 0s 54us/step - loss: 1.0000\n",
      "Epoch 90/100\n",
      "20/20 [==============================] - 0s 63us/step - loss: 1.0000\n",
      "Epoch 91/100\n",
      "20/20 [==============================] - 0s 56us/step - loss: 1.0000\n",
      "Epoch 92/100\n",
      "20/20 [==============================] - 0s 64us/step - loss: 1.0000\n",
      "Epoch 93/100\n",
      "20/20 [==============================] - 0s 59us/step - loss: 1.0000\n",
      "Epoch 94/100\n",
      "20/20 [==============================] - 0s 56us/step - loss: 1.0000\n",
      "Epoch 95/100\n",
      "20/20 [==============================] - 0s 56us/step - loss: 1.0000\n",
      "Epoch 96/100\n",
      "20/20 [==============================] - 0s 55us/step - loss: 1.0000\n",
      "Epoch 97/100\n",
      "20/20 [==============================] - 0s 55us/step - loss: 1.0000\n",
      "Epoch 98/100\n",
      "20/20 [==============================] - 0s 50us/step - loss: 1.0000\n",
      "Epoch 99/100\n",
      "20/20 [==============================] - 0s 56us/step - loss: 1.0000\n",
      "Epoch 100/100\n",
      "20/20 [==============================] - 0s 90us/step - loss: 1.0000\n"
     ]
    },
    {
     "data": {
      "text/plain": [
       "<keras.callbacks.callbacks.History at 0x7fad746cdc50>"
      ]
     },
     "execution_count": 19,
     "metadata": {},
     "output_type": "execute_result"
    }
   ],
   "source": [
    "model.fit(np.ones((20, 10)),\n",
    "          np.ones((20, 10)),\n",
    "          epochs=100)"
   ]
  },
  {
   "cell_type": "code",
   "execution_count": 20,
   "metadata": {
    "ExecuteTime": {
     "end_time": "2020-07-07T16:58:12.069487Z",
     "start_time": "2020-07-07T16:58:11.976576Z"
    }
   },
   "outputs": [
    {
     "data": {
      "text/plain": [
       "array([1., 1., 1., 1., 1., 1., 1., 1., 1., 1.], dtype=float32)"
      ]
     },
     "execution_count": 20,
     "metadata": {},
     "output_type": "execute_result"
    }
   ],
   "source": [
    "K.function(x, y)(ones)"
   ]
  },
  {
   "cell_type": "code",
   "execution_count": null,
   "metadata": {
    "ExecuteTime": {
     "end_time": "2020-07-07T16:59:20.756984Z",
     "start_time": "2020-07-07T16:59:20.632780Z"
    }
   },
   "outputs": [],
   "source": []
  },
  {
   "cell_type": "code",
   "execution_count": null,
   "metadata": {},
   "outputs": [],
   "source": []
  }
 ],
 "metadata": {
  "kernelspec": {
   "display_name": "Python 3",
   "language": "python",
   "name": "python3"
  },
  "language_info": {
   "codemirror_mode": {
    "name": "ipython",
    "version": 3
   },
   "file_extension": ".py",
   "mimetype": "text/x-python",
   "name": "python",
   "nbconvert_exporter": "python",
   "pygments_lexer": "ipython3",
<<<<<<< HEAD
   "version": "3.7.7"
  },
  "latex_envs": {
   "LaTeX_envs_menu_present": true,
   "autoclose": false,
   "autocomplete": true,
   "bibliofile": "biblio.bib",
   "cite_by": "apalike",
   "current_citInitial": 1,
   "eqLabelWithNumbers": true,
   "eqNumInitial": 1,
   "hotkeys": {
    "equation": "Ctrl-E",
    "itemize": "Ctrl-I"
   },
   "labels_anchors": false,
   "latex_user_defs": false,
   "report_style_numbering": false,
   "user_envs_cfg": false
=======
   "version": "3.7.6"
>>>>>>> 3dc5ea5a8b252127b69ce4cbe9faee694f81bb62
  },
  "toc": {
   "base_numbering": 1,
   "nav_menu": {},
   "number_sections": true,
   "sideBar": true,
   "skip_h1_title": false,
   "title_cell": "Overview",
   "title_sidebar": "Contents",
   "toc_cell": true,
   "toc_position": {},
   "toc_section_display": true,
   "toc_window_display": false
  },
  "varInspector": {
   "cols": {
<<<<<<< HEAD
    "lenName": "25",
=======
    "lenName": 16,
>>>>>>> 3dc5ea5a8b252127b69ce4cbe9faee694f81bb62
    "lenType": 16,
    "lenVar": 40
   },
   "kernels_config": {
    "python": {
     "delete_cmd_postfix": "",
     "delete_cmd_prefix": "del ",
     "library": "var_list.py",
     "varRefreshCmd": "print(var_dic_list())"
    },
    "r": {
     "delete_cmd_postfix": ") ",
     "delete_cmd_prefix": "rm(",
     "library": "var_list.r",
     "varRefreshCmd": "cat(var_dic_list()) "
    }
   },
   "types_to_exclude": [
    "module",
    "function",
    "builtin_function_or_method",
    "instance",
    "_Feature"
   ],
   "window_display": false
  }
 },
 "nbformat": 4,
 "nbformat_minor": 4
}
