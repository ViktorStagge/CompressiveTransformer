{
 "cells": [
  {
   "cell_type": "markdown",
   "metadata": {
    "toc": true
   },
   "source": [
    "<h1>Contents<span class=\"tocSkip\"></span></h1>\n",
    "<div class=\"toc\"><ul class=\"toc-item\"></ul></div>"
   ]
  },
  {
   "cell_type": "code",
   "execution_count": 14,
   "metadata": {},
   "outputs": [
    {
     "name": "stdout",
     "output_type": "stream",
     "text": [
      "The autoreload extension is already loaded. To reload it, use:\n",
      "  %reload_ext autoreload\n"
     ]
    }
   ],
   "source": [
    "import os\n",
    "import re\n",
    "import sys\n",
    "import numpy as np\n",
    "import pandas as pd\n",
    "\n",
    "from time import sleep, time\n",
    "from keras import backend as K\n",
    "from keras.models import Model \n",
    "from keras.models import Sequential as SequentialModel\n",
    "from keras.models import load_model\n",
    "from keras.layers import Dense, Conv1D, LSTM, Dropout, Embedding, Layer, Input, Flatten, concatenate as Concatenate, Lambda, Add\n",
    "from keras.callbacks import Callback\n",
    "from keras.utils import to_categorical\n",
    "from keras.preprocessing.text import Tokenizer as KerasTokenizer\n",
    "from tqdm.notebook import tqdm\n",
    "from sometimer import timer, time_this_method\n",
    "\n",
    "%load_ext autoreload\n",
    "%autoreload 2\n",
    "%reload_ext autoreload\n",
    "\n",
    "sys.path.insert(0, '../ct')\n",
    "\n",
    "import load\n",
    "from preprocess import preprocess\n",
    "from preprocess import Tokenizer\n",
    "from preprocess.preprocess import separator_samples\n",
    "\n",
    "from model.layers import LayerNormalization\n",
    "from model.layers import ContentBasedAttention_CT\n",
    "from model.layers import ScaledDotProductAttention\n",
    "from model.layers import MultiHeadAttention\n",
    "from model.layers import content_based_attention\n",
    "from model.layers import ReverseEmbedding\n",
    "\n",
    "from model import CompressiveTransformer\n",
    "from model import AttentionReconstruction\n",
    "\n",
    "from model.callbacks import ClearCompressedMemory, WriteLogsToFile\n",
    "from train.generators import next_token_batch_generator"
   ]
  },
  {
   "cell_type": "code",
   "execution_count": 87,
   "metadata": {},
   "outputs": [
    {
     "name": "stdout",
     "output_type": "stream",
     "text": [
      "input_emb.shape=(None, 20)\n",
      "w_tanspose.shape=(20, 100)\n",
      "Model: \"model_12\"\n",
      "_________________________________________________________________\n",
      "Layer (type)                 Output Shape              Param #   \n",
      "=================================================================\n",
      "input_15 (InputLayer)        (None, 10)                0         \n",
      "_________________________________________________________________\n",
      "embedding_15 (Embedding)     (None, 10, 20)            2000      \n",
      "_________________________________________________________________\n",
      "dense_29 (Dense)             (None, 10, 5)             100       \n",
      "_________________________________________________________________\n",
      "dense_30 (Dense)             (None, 10, 20)            120       \n",
      "_________________________________________________________________\n",
      "reverse_embedding_11 (Revers (None, 100)               2000      \n",
      "=================================================================\n",
      "Total params: 4,220\n",
      "Trainable params: 2,220\n",
      "Non-trainable params: 2,000\n",
      "_________________________________________________________________\n"
     ]
    }
   ],
   "source": [
    "x = Input(shape=(10,))\n",
    "emb = Embedding(input_dim=100,\n",
    "                output_dim=20)\n",
    "e = emb(x)\n",
    "\n",
    "den = Dense(units=5, \n",
    "            activation='relu',\n",
    "            use_bias=False)\n",
    "d = den(e)\n",
    "d2 = Dense(units=20)(d)\n",
    "\n",
    "o = ReverseEmbedding(embedding_layer=emb)(d2)\n",
    "\n",
    "model = Model(inputs=[x], outputs=[o])\n",
    "\n",
    "model.compile(optimizer='adam',\n",
    "              loss='categorical_crossentropy',\n",
    "              metrics=['accuracy'])\n",
    "\n",
    "model.summary()"
   ]
  },
  {
   "cell_type": "code",
   "execution_count": 88,
   "metadata": {
    "scrolled": true
   },
   "outputs": [
    {
     "name": "stderr",
     "output_type": "stream",
     "text": [
      "/home/vs/anaconda3/envs/keras/lib/python3.7/site-packages/tensorflow_core/python/framework/indexed_slices.py:433: UserWarning: Converting sparse IndexedSlices to a dense Tensor of unknown shape. This may consume a large amount of memory.\n",
      "  \"Converting sparse IndexedSlices to a dense Tensor of unknown shape. \"\n"
     ]
    },
    {
     "name": "stdout",
     "output_type": "stream",
     "text": [
      "Epoch 1/1\n",
      "20/20 [==============================] - 0s 5ms/step - loss: 0.0000e+00 - accuracy: 0.0000e+00\n"
     ]
    },
    {
     "data": {
      "text/plain": [
       "<keras.callbacks.callbacks.History at 0x7f41841bae90>"
      ]
     },
     "execution_count": 88,
     "metadata": {},
     "output_type": "execute_result"
    }
   ],
   "source": [
    "model.fit(x=np.zeros((20, 10)),\n",
    "          y=np.zeros((20, 100)),\n",
    "          batch_size=10)"
   ]
  },
  {
   "cell_type": "code",
   "execution_count": 79,
   "metadata": {},
   "outputs": [
    {
     "data": {
      "text/plain": [
       "<tf.Tensor: shape=(4, 100), dtype=float32, numpy=\n",
       "array([[-3.12270343e-01, -2.01881075e+00,  1.10959005e+00,\n",
       "         4.12544519e-01, -2.48004246e+00, -1.80119312e+00,\n",
       "         9.10758972e-05,  3.86740834e-01,  2.00239515e+00,\n",
       "         4.82137024e-01,  2.14934325e+00, -1.36382669e-01,\n",
       "         4.13869888e-01,  6.01750076e-01, -1.75808585e+00,\n",
       "        -2.99215984e+00, -1.49753630e-01,  8.09358835e-01,\n",
       "         1.13806009e+00, -1.11401045e+00,  1.08204746e+00,\n",
       "        -1.15455687e+00, -1.19104409e+00, -2.34749508e+00,\n",
       "        -2.36000752e+00,  5.59672356e-01, -3.97789180e-01,\n",
       "         1.11688316e+00,  3.40092182e-02, -2.31264973e+00,\n",
       "        -2.44603539e+00,  3.86489809e-01, -2.06056976e+00,\n",
       "        -5.19997478e-01, -3.78525734e-01,  1.51727593e+00,\n",
       "        -3.59310627e-01,  4.82630014e-01, -1.92343384e-01,\n",
       "         1.51048589e+00,  5.14758825e-01, -1.21477628e+00,\n",
       "        -2.15410650e-01,  5.64563870e-01, -3.14754844e-02,\n",
       "         9.07374620e-02, -3.32142019e+00,  7.28994787e-01,\n",
       "         2.88106322e-01,  1.09209275e+00, -4.49817300e-01,\n",
       "         1.35724235e+00,  7.14068770e-01, -1.72737992e+00,\n",
       "        -2.36240554e+00, -1.15160096e+00,  1.49063730e+00,\n",
       "        -8.65693152e-01, -5.72716236e-01,  1.45433390e+00,\n",
       "        -3.42090815e-01, -1.52517748e+00,  2.38102746e+00,\n",
       "         1.90247154e+00, -5.92905164e-01, -1.08515882e+00,\n",
       "         8.44622970e-01,  1.88964403e+00,  9.59546924e-01,\n",
       "         4.95430827e-01,  1.67019033e+00,  8.38046372e-01,\n",
       "         1.36728442e+00, -5.38260341e-02,  1.25580704e+00,\n",
       "        -2.57363796e+00, -1.74941742e+00,  1.11241245e+00,\n",
       "        -1.07397509e+00,  5.72623253e-01, -1.97777367e+00,\n",
       "         1.15943384e+00,  2.02861309e-01, -2.40255523e+00,\n",
       "        -3.89971137e-02, -5.86921573e-01, -3.11760306e+00,\n",
       "         2.34366834e-01,  1.10844278e+00,  3.24318933e+00,\n",
       "         2.61440754e+00,  1.46384287e+00, -3.52143273e-02,\n",
       "         3.88743854e+00, -3.46962482e-01,  7.79119790e-01,\n",
       "         1.73068047e-01, -9.01610851e-02, -9.97670829e-01,\n",
       "         9.27816480e-02],\n",
       "       [-1.64726019e-01, -4.43730545e+00,  3.32956362e+00,\n",
       "         2.20553666e-01, -7.15561485e+00, -3.44835281e+00,\n",
       "         9.70015049e-01,  2.85081625e-01,  5.07663631e+00,\n",
       "         1.79807574e-01,  5.50997782e+00, -1.27499604e+00,\n",
       "         2.43898392e+00,  2.76224375e-01, -2.74563599e+00,\n",
       "        -8.49303436e+00,  1.62177289e+00,  1.35624635e+00,\n",
       "         3.49242735e+00, -3.51305008e+00,  9.94222403e-01,\n",
       "        -3.33063626e+00, -2.93416691e+00, -6.37075520e+00,\n",
       "        -8.70894623e+00,  5.29669762e-01, -9.66441393e-01,\n",
       "         2.78487062e+00, -2.30727100e+00, -6.82299137e+00,\n",
       "        -5.37518024e+00,  1.87332988e+00, -5.31971741e+00,\n",
       "        -1.54668987e+00, -1.92410636e+00,  4.24170732e+00,\n",
       "         7.41206408e-01,  1.86865449e+00, -8.42011988e-01,\n",
       "         4.94037819e+00,  2.31903648e+00, -2.59705853e+00,\n",
       "        -2.03440619e+00,  1.01437938e+00, -1.84028268e+00,\n",
       "        -1.57053030e+00, -1.08852749e+01, -3.93736601e-01,\n",
       "         8.77452314e-01,  3.78759646e+00, -1.48032188e-01,\n",
       "         3.55063677e+00,  2.35925984e+00, -4.45677900e+00,\n",
       "        -7.07100677e+00, -6.33719349e+00,  5.21546507e+00,\n",
       "        -5.15213060e+00, -1.83512545e+00,  4.15872145e+00,\n",
       "        -3.60357165e-01, -6.46282482e+00,  7.03254700e+00,\n",
       "         4.24276781e+00, -3.09850788e+00, -3.89095283e+00,\n",
       "        -4.67807055e-01,  6.19867945e+00,  3.59212112e+00,\n",
       "         1.74851251e+00,  4.15141249e+00,  1.98230934e+00,\n",
       "         3.81435061e+00,  1.02568686e+00,  2.97160435e+00,\n",
       "        -7.14003944e+00, -4.48755932e+00,  1.36108661e+00,\n",
       "        -3.07817006e+00,  1.48419499e+00, -4.10875702e+00,\n",
       "         9.15158033e-01, -8.69082928e-01, -4.93473577e+00,\n",
       "        -7.32793450e-01, -1.13902307e+00, -7.82086658e+00,\n",
       "         1.29942715e-01,  3.37277722e+00,  8.17009163e+00,\n",
       "         6.57607269e+00,  4.49251652e+00,  9.41830993e-01,\n",
       "         1.10878906e+01, -2.80175161e+00,  2.98970222e+00,\n",
       "        -2.45829487e+00,  3.80698276e+00, -1.26597834e+00,\n",
       "         1.15821338e+00],\n",
       "       [-1.71813965e-02, -6.85579872e+00,  5.54953766e+00,\n",
       "         2.85629630e-02, -1.18311872e+01, -5.09551239e+00,\n",
       "         1.93993926e+00,  1.83422089e-01,  8.15087795e+00,\n",
       "        -1.22522295e-01,  8.87061214e+00, -2.41360903e+00,\n",
       "         4.46409750e+00, -4.93011475e-02, -3.73318672e+00,\n",
       "        -1.39939098e+01,  3.39329934e+00,  1.90313351e+00,\n",
       "         5.84679413e+00, -5.91208982e+00,  9.06397820e-01,\n",
       "        -5.50671577e+00, -4.67728996e+00, -1.03940163e+01,\n",
       "        -1.50578842e+01,  4.99667168e-01, -1.53509378e+00,\n",
       "         4.45285797e+00, -4.64855099e+00, -1.13333321e+01,\n",
       "        -8.30432510e+00,  3.36017036e+00, -8.57886505e+00,\n",
       "        -2.57338214e+00, -3.46968746e+00,  6.96613789e+00,\n",
       "         1.84172273e+00,  3.25467896e+00, -1.49168110e+00,\n",
       "         8.37026978e+00,  4.12331390e+00, -3.97934151e+00,\n",
       "        -3.85340095e+00,  1.46419311e+00, -3.64909029e+00,\n",
       "        -3.23179865e+00, -1.84491310e+01, -1.51646829e+00,\n",
       "         1.46679926e+00,  6.48310041e+00,  1.53753519e-01,\n",
       "         5.74403143e+00,  4.00445175e+00, -7.18617821e+00,\n",
       "        -1.17796087e+01, -1.15227861e+01,  8.94029236e+00,\n",
       "        -9.43856812e+00, -3.09753442e+00,  6.86310863e+00,\n",
       "        -3.78623962e-01, -1.14004726e+01,  1.16840677e+01,\n",
       "         6.58306408e+00, -5.60411072e+00, -6.69674683e+00,\n",
       "        -1.78023672e+00,  1.05077124e+01,  6.22469521e+00,\n",
       "         3.00159407e+00,  6.63263464e+00,  3.12657261e+00,\n",
       "         6.26141739e+00,  2.10519791e+00,  4.68740034e+00,\n",
       "        -1.17064409e+01, -7.22570133e+00,  1.60976100e+00,\n",
       "        -5.08236551e+00,  2.39576626e+00, -6.23974037e+00,\n",
       "         6.70882702e-01, -1.94102669e+00, -7.46691608e+00,\n",
       "        -1.42658985e+00, -1.69112420e+00, -1.25241308e+01,\n",
       "         2.55181789e-02,  5.63711166e+00,  1.30969934e+01,\n",
       "         1.05377378e+01,  7.52119064e+00,  1.91887593e+00,\n",
       "         1.82883434e+01, -5.25654030e+00,  5.20028496e+00,\n",
       "        -5.08965778e+00,  7.70412731e+00, -1.53428590e+00,\n",
       "         2.22364569e+00],\n",
       "       [ 1.30362511e-01, -9.27429295e+00,  7.76951218e+00,\n",
       "        -1.63427591e-01, -1.65067577e+01, -6.74267054e+00,\n",
       "         2.90986276e+00,  8.17618370e-02,  1.12251205e+01,\n",
       "        -4.24851894e-01,  1.22312450e+01, -3.55222249e+00,\n",
       "         6.48921204e+00, -3.74827862e-01, -4.72073650e+00,\n",
       "        -1.94947853e+01,  5.16482639e+00,  2.45002079e+00,\n",
       "         8.20116234e+00, -8.31113052e+00,  8.18572998e-01,\n",
       "        -7.68279552e+00, -6.42041206e+00, -1.44172773e+01,\n",
       "        -2.14068241e+01,  4.69664574e-01, -2.10374546e+00,\n",
       "         6.12084436e+00, -6.98983049e+00, -1.58436737e+01,\n",
       "        -1.12334690e+01,  4.84701061e+00, -1.18380127e+01,\n",
       "        -3.60007358e+00, -5.01526833e+00,  9.69056797e+00,\n",
       "         2.94223976e+00,  4.64070272e+00, -2.14134955e+00,\n",
       "         1.18001623e+01,  5.92759132e+00, -5.36162376e+00,\n",
       "        -5.67239571e+00,  1.91400671e+00, -5.45789719e+00,\n",
       "        -4.89306545e+00, -2.60129890e+01, -2.63919997e+00,\n",
       "         2.05614471e+00,  9.17860508e+00,  4.55538273e-01,\n",
       "         7.93742561e+00,  5.64964390e+00, -9.91557693e+00,\n",
       "        -1.64882088e+01, -1.67083759e+01,  1.26651211e+01,\n",
       "        -1.37250061e+01, -4.35994339e+00,  9.56749725e+00,\n",
       "        -3.96890163e-01, -1.63381195e+01,  1.63355846e+01,\n",
       "         8.92335987e+00, -8.10971451e+00, -9.50254059e+00,\n",
       "        -3.09266710e+00,  1.48167477e+01,  8.85726929e+00,\n",
       "         4.25467587e+00,  9.11385727e+00,  4.27083588e+00,\n",
       "         8.70848370e+00,  3.18470979e+00,  6.40319777e+00,\n",
       "        -1.62728424e+01, -9.96384239e+00,  1.85843539e+00,\n",
       "        -7.08656025e+00,  3.30733728e+00, -8.37072277e+00,\n",
       "         4.26607609e-01, -3.01297116e+00, -9.99909782e+00,\n",
       "        -2.12038612e+00, -2.24322581e+00, -1.72273941e+01,\n",
       "        -7.89060593e-02,  7.90144682e+00,  1.80238953e+01,\n",
       "         1.44994020e+01,  1.05498657e+01,  2.89592171e+00,\n",
       "         2.54887962e+01, -7.71132946e+00,  7.41086721e+00,\n",
       "        -7.72101784e+00,  1.16012726e+01, -1.80259418e+00,\n",
       "         3.28907728e+00]], dtype=float32)>"
      ]
     },
     "execution_count": 79,
     "metadata": {},
     "output_type": "execute_result"
    }
   ],
   "source": []
  },
  {
   "cell_type": "code",
   "execution_count": null,
   "metadata": {},
   "outputs": [],
   "source": []
  },
  {
   "cell_type": "code",
   "execution_count": 75,
   "metadata": {},
   "outputs": [
    {
     "data": {
      "text/plain": [
       "<tf.Variable 'embedding_9/embeddings:0' shape=(100, 20) dtype=float32, numpy=\n",
       "array([[-0.02769239,  0.04272921, -0.01580853, ...,  0.01696021,\n",
       "        -0.03627395, -0.03013293],\n",
       "       [-0.0397629 ,  0.04580368,  0.02049183, ..., -0.00394722,\n",
       "        -0.03664054,  0.02503315],\n",
       "       [-0.01037703,  0.00062399, -0.02629734, ...,  0.00161244,\n",
       "        -0.02797332, -0.02967653],\n",
       "       ...,\n",
       "       [ 0.02804993,  0.04950825,  0.03924369, ...,  0.04061778,\n",
       "        -0.03057084,  0.01604346],\n",
       "       [ 0.02938082, -0.0223686 ,  0.00598091, ...,  0.01112235,\n",
       "        -0.04460507, -0.04773163],\n",
       "       [-0.00549177,  0.04360482, -0.03629843, ..., -0.04787669,\n",
       "         0.01324466, -0.03822105]], dtype=float32)>"
      ]
     },
     "execution_count": 75,
     "metadata": {},
     "output_type": "execute_result"
    }
   ],
   "source": [
    "emb.embeddings"
   ]
  },
  {
   "cell_type": "code",
   "execution_count": null,
   "metadata": {},
   "outputs": [],
   "source": []
  }
 ],
 "metadata": {
  "kernelspec": {
   "display_name": "Python 3",
   "language": "python",
   "name": "python3"
  },
  "language_info": {
   "codemirror_mode": {
    "name": "ipython",
    "version": 3
   },
   "file_extension": ".py",
   "mimetype": "text/x-python",
   "name": "python",
   "nbconvert_exporter": "python",
   "pygments_lexer": "ipython3",
   "version": "3.7.6"
  },
  "toc": {
   "base_numbering": 1,
   "nav_menu": {},
   "number_sections": true,
   "sideBar": true,
   "skip_h1_title": false,
   "title_cell": "Contents",
   "title_sidebar": "Contents",
   "toc_cell": true,
   "toc_position": {},
   "toc_section_display": true,
   "toc_window_display": false
  },
  "varInspector": {
   "cols": {
    "lenName": 16,
    "lenType": 16,
    "lenVar": 40
   },
   "kernels_config": {
    "python": {
     "delete_cmd_postfix": "",
     "delete_cmd_prefix": "del ",
     "library": "var_list.py",
     "varRefreshCmd": "print(var_dic_list())"
    },
    "r": {
     "delete_cmd_postfix": ") ",
     "delete_cmd_prefix": "rm(",
     "library": "var_list.r",
     "varRefreshCmd": "cat(var_dic_list()) "
    }
   },
   "types_to_exclude": [
    "module",
    "function",
    "builtin_function_or_method",
    "instance",
    "_Feature"
   ],
   "window_display": false
  }
 },
 "nbformat": 4,
 "nbformat_minor": 4
}
