{
 "cells": [
  {
   "cell_type": "markdown",
   "metadata": {
    "toc": true
   },
   "source": [
    "<h1>Overview<span class=\"tocSkip\"></span></h1>\n",
    "<div class=\"toc\"><ul class=\"toc-item\"><li><span><a href=\"#WMA-Tokenization\" data-toc-modified-id=\"WMA-Tokenization-1\"><span class=\"toc-item-num\">1&nbsp;&nbsp;</span>WMA Tokenization</a></span><ul class=\"toc-item\"><li><span><a href=\"#WMA-en-de-train/val\" data-toc-modified-id=\"WMA-en-de-train/val-1.1\"><span class=\"toc-item-num\">1.1&nbsp;&nbsp;</span>WMA en-de train/val</a></span></li></ul></li></ul></div>"
   ]
  },
  {
   "cell_type": "code",
   "execution_count": 1,
   "metadata": {},
   "outputs": [
    {
     "name": "stderr",
     "output_type": "stream",
     "text": [
      "Using TensorFlow backend.\n"
     ]
    }
   ],
   "source": [
    "import os\n",
    "import re\n",
    "import sys\n",
    "import numpy as np\n",
    "import pandas as pd\n",
    "\n",
    "from time import sleep\n",
    "from keras import backend as K\n",
    "from keras.models import Model \n",
    "from keras.models import Sequential as SequentialModel\n",
    "from keras.layers import Dense, Conv1D, LSTM, Dropout, Embedding, Layer, Input, Flatten, concatenate as Concatenate, Lambda\n",
    "from keras.callbacks import Callback\n",
    "from keras.utils import to_categorical\n",
    "from keras.preprocessing.text import Tokenizer as KerasTokenizer\n",
    "\n",
    "%load_ext autoreload\n",
    "%autoreload 2\n",
    "%reload_ext autoreload\n",
    "\n",
    "sys.path.insert(0, '../ct')\n",
    "\n",
    "import load\n",
    "from preprocess import preprocess\n",
    "from preprocess import Tokenizer\n",
    "from preprocess.preprocess import separator_samples\n",
    "\n",
    "from model.layers import LayerNormalization\n",
    "from model.layers import ContentBasedAttention_CT\n",
    "from model.layers import ScaledDotProductAttention\n",
    "from model.layers import MultiHeadAttention\n",
    "from model import CompressiveTransformer\n",
    "\n",
    "from load.wma import load as load_wma"
   ]
  },
  {
   "cell_type": "code",
   "execution_count": 4,
   "metadata": {},
   "outputs": [],
   "source": [
    "def file_utf_to_ascii(input_path, output_path=None):\n",
    "    if output_path is None:\n",
    "        s = input_path.split('.')\n",
    "        output_path = '.'.join(s[:-1]) + '-ascii.' + s[-1]\n",
    "    \n",
    "    with open(input_path, 'r', encoding='utf8') as file:\n",
    "        content = file.read()\n",
    "    content = content.encode('ascii', 'xmlcharrefreplace')\n",
    "    content = content.decode('ascii')\n",
    "    with open(output_path, 'w', encoding='ascii') as file:\n",
    "        file.write(content)\n",
    "    print(f'converted utf->ascii for {input_path}')"
   ]
  },
  {
   "cell_type": "code",
   "execution_count": 25,
   "metadata": {},
   "outputs": [
    {
     "name": "stdout",
     "output_type": "stream",
     "text": [
      "converted utf->ascii for ..\\data\\wma-en-de\\input\\train-en.txt\n",
      "converted utf->ascii for ..\\data\\wma-en-de\\input\\train-de.txt\n"
     ]
    }
   ],
   "source": [
    "# for p in input_paths:\n",
    "#    file_utf_to_ascii(p)"
   ]
  },
  {
   "cell_type": "code",
   "execution_count": 12,
   "metadata": {},
   "outputs": [],
   "source": []
  },
  {
   "cell_type": "markdown",
   "metadata": {},
   "source": [
    "# WMA Tokenization"
   ]
  },
  {
   "cell_type": "code",
   "execution_count": 8,
   "metadata": {},
   "outputs": [],
   "source": [
    "vocab_size=1024\n",
    "lowercase=False\n",
    "\n",
    "input_paths = {'en': '../data/wma-en-de/input/train-en.txt',\n",
    "               'de': '../data/wma-en-de/input/train-de.txt'}\n",
    "\n",
    "tokenizer_output_path = f'../data/wma-en-de/tokenizer/en-de-v0-t{vocab_size}' \\\n",
    "                        f'{\"-lowercase\" if lowercase else \"\"}.tok'"
   ]
  },
  {
   "cell_type": "code",
   "execution_count": 9,
   "metadata": {},
   "outputs": [],
   "source": [
    "tokenizer = Tokenizer(input_paths=list(input_paths.values()), \n",
    "                      tokenizer_output_path=tokenizer_output_path,\n",
    "                      vocab_size=vocab_size,\n",
    "                      lowercase=lowercase)"
   ]
  },
  {
   "cell_type": "code",
   "execution_count": 10,
   "metadata": {},
   "outputs": [
    {
     "data": {
      "text/plain": [
       "Encoding(num_tokens=3, attributes=[ids, type_ids, tokens, offsets, attention_mask, special_tokens_mask, overflowing])"
      ]
     },
     "execution_count": 10,
     "metadata": {},
     "output_type": "execute_result"
    }
   ],
   "source": [
    "hello = tokenizer.encode_batch(['hello'])[0]\n",
    "hello"
   ]
  },
  {
   "cell_type": "code",
   "execution_count": 11,
   "metadata": {},
   "outputs": [
    {
     "name": "stdout",
     "output_type": "stream",
     "text": [
      "[401, 314, 78]\n",
      "['he', 'll', 'o']\n"
     ]
    }
   ],
   "source": [
    "print(hello.ids)\n",
    "print(hello.tokens)"
   ]
  },
  {
   "cell_type": "markdown",
   "metadata": {},
   "source": [
    "## WMA en-de train/val"
   ]
  },
  {
   "cell_type": "code",
   "execution_count": 12,
   "metadata": {},
   "outputs": [],
   "source": [
    "from load.wma import load as load_wma"
   ]
  },
  {
   "cell_type": "code",
   "execution_count": 13,
   "metadata": {},
   "outputs": [],
   "source": [
    "wma = load_wma(input_paths['en'],\n",
    "               input_paths['de'])"
   ]
  },
  {
   "cell_type": "code",
   "execution_count": 14,
   "metadata": {},
   "outputs": [
    {
     "data": {
      "text/html": [
       "<div>\n",
       "<style scoped>\n",
       "    .dataframe tbody tr th:only-of-type {\n",
       "        vertical-align: middle;\n",
       "    }\n",
       "\n",
       "    .dataframe tbody tr th {\n",
       "        vertical-align: top;\n",
       "    }\n",
       "\n",
       "    .dataframe thead th {\n",
       "        text-align: right;\n",
       "    }\n",
       "</style>\n",
       "<table border=\"1\" class=\"dataframe\">\n",
       "  <thead>\n",
       "    <tr style=\"text-align: right;\">\n",
       "      <th></th>\n",
       "      <th>english</th>\n",
       "      <th>german</th>\n",
       "    </tr>\n",
       "  </thead>\n",
       "  <tbody>\n",
       "    <tr>\n",
       "      <th>0</th>\n",
       "      <td>iron cement is a ready for use paste which is ...</td>\n",
       "      <td>iron cement ist eine gebrauchs ##AT##-##AT## f...</td>\n",
       "    </tr>\n",
       "    <tr>\n",
       "      <th>1</th>\n",
       "      <td>iron cement protects the ingot against the hot...</td>\n",
       "      <td>Nach der Aushärtung schützt iron cement die Ko...</td>\n",
       "    </tr>\n",
       "    <tr>\n",
       "      <th>2</th>\n",
       "      <td>a fire restant repair cement for fire places ,...</td>\n",
       "      <td>feuerfester Reparaturkitt für Feuerungsanlagen...</td>\n",
       "    </tr>\n",
       "    <tr>\n",
       "      <th>3</th>\n",
       "      <td>Construction and repair of highways and ...\\n</td>\n",
       "      <td>Der Bau und die Reparatur der Autostraßen ...\\n</td>\n",
       "    </tr>\n",
       "    <tr>\n",
       "      <th>4</th>\n",
       "      <td>An announcement must be commercial character .\\n</td>\n",
       "      <td>die Mitteilungen sollen den geschäftlichen kom...</td>\n",
       "    </tr>\n",
       "    <tr>\n",
       "      <th>...</th>\n",
       "      <td>...</td>\n",
       "      <td>...</td>\n",
       "    </tr>\n",
       "    <tr>\n",
       "      <th>4468835</th>\n",
       "      <td>Their achievement remains one of the greatest ...</td>\n",
       "      <td>Das bleibt eine der größten Errungenschaften i...</td>\n",
       "    </tr>\n",
       "    <tr>\n",
       "      <th>4468836</th>\n",
       "      <td>At the same time , Zuma ’ s revolutionary gene...</td>\n",
       "      <td>Gleichzeitig scheint sich Zumas revolutionäre ...</td>\n",
       "    </tr>\n",
       "    <tr>\n",
       "      <th>4468837</th>\n",
       "      <td>In a region that reveres the elderly , Zuma ’ ...</td>\n",
       "      <td>In einer Region , wo die älteren Menschen sehr...</td>\n",
       "    </tr>\n",
       "    <tr>\n",
       "      <th>4468838</th>\n",
       "      <td>Three in ten South Africans are younger than 1...</td>\n",
       "      <td>Drei von zehn Südafrikanern sind jünger als 15...</td>\n",
       "    </tr>\n",
       "    <tr>\n",
       "      <th>4468839</th>\n",
       "      <td>Somehow Zuma must find a way to honor his own ...</td>\n",
       "      <td>Irgendwie muss Zuma einen Weg finden , einerse...</td>\n",
       "    </tr>\n",
       "  </tbody>\n",
       "</table>\n",
       "<p>4468840 rows × 2 columns</p>\n",
       "</div>"
      ],
      "text/plain": [
       "                                                   english  \\\n",
       "0        iron cement is a ready for use paste which is ...   \n",
       "1        iron cement protects the ingot against the hot...   \n",
       "2        a fire restant repair cement for fire places ,...   \n",
       "3            Construction and repair of highways and ...\\n   \n",
       "4         An announcement must be commercial character .\\n   \n",
       "...                                                    ...   \n",
       "4468835  Their achievement remains one of the greatest ...   \n",
       "4468836  At the same time , Zuma ’ s revolutionary gene...   \n",
       "4468837  In a region that reveres the elderly , Zuma ’ ...   \n",
       "4468838  Three in ten South Africans are younger than 1...   \n",
       "4468839  Somehow Zuma must find a way to honor his own ...   \n",
       "\n",
       "                                                    german  \n",
       "0        iron cement ist eine gebrauchs ##AT##-##AT## f...  \n",
       "1        Nach der Aushärtung schützt iron cement die Ko...  \n",
       "2        feuerfester Reparaturkitt für Feuerungsanlagen...  \n",
       "3          Der Bau und die Reparatur der Autostraßen ...\\n  \n",
       "4        die Mitteilungen sollen den geschäftlichen kom...  \n",
       "...                                                    ...  \n",
       "4468835  Das bleibt eine der größten Errungenschaften i...  \n",
       "4468836  Gleichzeitig scheint sich Zumas revolutionäre ...  \n",
       "4468837  In einer Region , wo die älteren Menschen sehr...  \n",
       "4468838  Drei von zehn Südafrikanern sind jünger als 15...  \n",
       "4468839  Irgendwie muss Zuma einen Weg finden , einerse...  \n",
       "\n",
       "[4468840 rows x 2 columns]"
      ]
     },
     "execution_count": 14,
     "metadata": {},
     "output_type": "execute_result"
    }
   ],
   "source": [
    "wma"
   ]
  },
  {
   "cell_type": "code",
   "execution_count": 15,
   "metadata": {},
   "outputs": [],
   "source": [
    "english_encodings = tokenizer.encode_batch(wma.english.tolist())\n",
    "\n",
    "wma['english_ids'] = [encoding.ids for encoding in english_encodings]"
   ]
  },
  {
   "cell_type": "code",
   "execution_count": 16,
   "metadata": {},
   "outputs": [],
   "source": [
    "del english_encodings"
   ]
  },
  {
   "cell_type": "code",
   "execution_count": 17,
   "metadata": {},
   "outputs": [],
   "source": [
    "# german_encodings = tokenizer.encode_batch(wma.german.tolist())\n",
    "# wma['german_ids'] = [encoding.ids for encoding in german_encodings]\n",
    "# del german_encodings"
   ]
  },
  {
   "cell_type": "code",
   "execution_count": 18,
   "metadata": {
    "scrolled": false
   },
   "outputs": [
    {
     "data": {
      "text/html": [
       "<div>\n",
       "<style scoped>\n",
       "    .dataframe tbody tr th:only-of-type {\n",
       "        vertical-align: middle;\n",
       "    }\n",
       "\n",
       "    .dataframe tbody tr th {\n",
       "        vertical-align: top;\n",
       "    }\n",
       "\n",
       "    .dataframe thead th {\n",
       "        text-align: right;\n",
       "    }\n",
       "</style>\n",
       "<table border=\"1\" class=\"dataframe\">\n",
       "  <thead>\n",
       "    <tr style=\"text-align: right;\">\n",
       "      <th></th>\n",
       "      <th>english_ids</th>\n",
       "    </tr>\n",
       "  </thead>\n",
       "  <tbody>\n",
       "    <tr>\n",
       "      <th>0</th>\n",
       "      <td>[330, 265, 296, 339, 301, 326, 259, 353, 445, ...</td>\n",
       "    </tr>\n",
       "    <tr>\n",
       "      <th>1</th>\n",
       "      <td>[330, 265, 296, 339, 301, 406, 288, 364, 82, 2...</td>\n",
       "    </tr>\n",
       "    <tr>\n",
       "      <th>2</th>\n",
       "      <td>[64, 285, 651, 409, 397, 490, 353, 79, 64, 330...</td>\n",
       "    </tr>\n",
       "    <tr>\n",
       "      <th>3</th>\n",
       "      <td>[34, 265, 323, 722, 682, 312, 353, 79, 64, 330...</td>\n",
       "    </tr>\n",
       "    <tr>\n",
       "      <th>4</th>\n",
       "      <td>[32, 77, 291, 77, 749, 66, 339, 301, 926, 324,...</td>\n",
       "    </tr>\n",
       "    <tr>\n",
       "      <th>...</th>\n",
       "      <td>...</td>\n",
       "    </tr>\n",
       "    <tr>\n",
       "      <th>4468835</th>\n",
       "      <td>[474, 330, 259, 262, 274, 85, 339, 301, 353, 7...</td>\n",
       "    </tr>\n",
       "    <tr>\n",
       "      <th>4468836</th>\n",
       "      <td>[32, 83, 277, 268, 837, 972, 263, 465, 361, 64...</td>\n",
       "    </tr>\n",
       "    <tr>\n",
       "      <th>4468837</th>\n",
       "      <td>[621, 259, 750, 289, 398, 353, 434, 264, 277, ...</td>\n",
       "    </tr>\n",
       "    <tr>\n",
       "      <th>4468838</th>\n",
       "      <td>[622, 904, 283, 260, 256, 302, 697, 71, 320, 6...</td>\n",
       "    </tr>\n",
       "    <tr>\n",
       "      <th>4468839</th>\n",
       "      <td>[50, 700, 71, 410, 465, 361, 64, 926, 285, 448...</td>\n",
       "    </tr>\n",
       "  </tbody>\n",
       "</table>\n",
       "<p>4468840 rows × 1 columns</p>\n",
       "</div>"
      ],
      "text/plain": [
       "                                               english_ids\n",
       "0        [330, 265, 296, 339, 301, 326, 259, 353, 445, ...\n",
       "1        [330, 265, 296, 339, 301, 406, 288, 364, 82, 2...\n",
       "2        [64, 285, 651, 409, 397, 490, 353, 79, 64, 330...\n",
       "3        [34, 265, 323, 722, 682, 312, 353, 79, 64, 330...\n",
       "4        [32, 77, 291, 77, 749, 66, 339, 301, 926, 324,...\n",
       "...                                                    ...\n",
       "4468835  [474, 330, 259, 262, 274, 85, 339, 301, 353, 7...\n",
       "4468836  [32, 83, 277, 268, 837, 972, 263, 465, 361, 64...\n",
       "4468837  [621, 259, 750, 289, 398, 353, 434, 264, 277, ...\n",
       "4468838  [622, 904, 283, 260, 256, 302, 697, 71, 320, 6...\n",
       "4468839  [50, 700, 71, 410, 465, 361, 64, 926, 285, 448...\n",
       "\n",
       "[4468840 rows x 1 columns]"
      ]
     },
     "execution_count": 18,
     "metadata": {},
     "output_type": "execute_result"
    }
   ],
   "source": [
    "wma[['english_ids']]"
   ]
  },
  {
   "cell_type": "code",
   "execution_count": 19,
   "metadata": {},
   "outputs": [],
   "source": [
    "val_index = int(len(wma)*0.8)"
   ]
  },
  {
   "cell_type": "code",
   "execution_count": 20,
   "metadata": {},
   "outputs": [],
   "source": [
    "x_train = wma[['english_ids']][:val_index]\n",
    "x_val = wma[['english_ids']][-val_index:]"
   ]
  },
  {
   "cell_type": "code",
   "execution_count": 21,
   "metadata": {},
   "outputs": [],
   "source": [
    "x_train.to_pickle('../data/wma-en-de/processed/train-en.pkl.zip')\n",
    "x_val.to_pickle('../data/wma-en-de/processed/val-en.pkl.zip')"
   ]
  },
  {
   "cell_type": "code",
   "execution_count": null,
   "metadata": {},
   "outputs": [],
   "source": []
  }
 ],
 "metadata": {
  "kernelspec": {
   "display_name": "Python 3",
   "language": "python",
   "name": "python3"
  },
  "language_info": {
   "codemirror_mode": {
    "name": "ipython",
    "version": 3
   },
   "file_extension": ".py",
   "mimetype": "text/x-python",
   "name": "python",
   "nbconvert_exporter": "python",
   "pygments_lexer": "ipython3",
   "version": "3.7.6"
  },
  "toc": {
   "base_numbering": 1,
   "nav_menu": {},
   "number_sections": true,
   "sideBar": true,
   "skip_h1_title": false,
   "title_cell": "Overview",
   "title_sidebar": "Contents",
   "toc_cell": true,
   "toc_position": {},
   "toc_section_display": true,
   "toc_window_display": false
  },
  "varInspector": {
   "cols": {
    "lenName": 16,
    "lenType": 16,
    "lenVar": 40
   },
   "kernels_config": {
    "python": {
     "delete_cmd_postfix": "",
     "delete_cmd_prefix": "del ",
     "library": "var_list.py",
     "varRefreshCmd": "print(var_dic_list())"
    },
    "r": {
     "delete_cmd_postfix": ") ",
     "delete_cmd_prefix": "rm(",
     "library": "var_list.r",
     "varRefreshCmd": "cat(var_dic_list()) "
    }
   },
   "types_to_exclude": [
    "module",
    "function",
    "builtin_function_or_method",
    "instance",
    "_Feature"
   ],
   "window_display": false
  }
 },
 "nbformat": 4,
 "nbformat_minor": 4
}
